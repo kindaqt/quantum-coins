{
 "cells": [
  {
   "cell_type": "markdown",
   "metadata": {},
   "source": [
    "# Playing with qiskit.quantum_info.Statevector"
   ]
  },
  {
   "cell_type": "code",
   "execution_count": 102,
   "metadata": {},
   "outputs": [],
   "source": [
    "from qiskit.quantum_info import Statevector"
   ]
  },
  {
   "cell_type": "code",
   "execution_count": 103,
   "metadata": {},
   "outputs": [
    {
     "name": "stdout",
     "output_type": "stream",
     "text": [
      "             label: 0\n",
      "              dict: {'0': (1+0j)}\n",
      "     probabilities: [1. 0.]\n",
      "probabilities_dict: {'0': 1.0}\n",
      "\n",
      "             label: 1\n",
      "              dict: {'1': (1+0j)}\n",
      "     probabilities: [0. 1.]\n",
      "probabilities_dict: {'1': 1.0}\n",
      "\n",
      "             label: +\n",
      "              dict: {'0': (0.7071067811865475+0j), '1': (0.7071067811865475+0j)}\n",
      "     probabilities: [0.5 0.5]\n",
      "probabilities_dict: {'0': 0.4999999999999999, '1': 0.4999999999999999}\n",
      "\n",
      "             label: -\n",
      "              dict: {'0': (0.7071067811865475+0j), '1': (-0.7071067811865475+0j)}\n",
      "     probabilities: [0.5 0.5]\n",
      "probabilities_dict: {'0': 0.4999999999999999, '1': 0.4999999999999999}\n",
      "\n"
     ]
    }
   ],
   "source": [
    "def state_runner(label):\n",
    "    state_vector = Statevector.from_label(label)\n",
    "    print(f\"             label: {label}\")\n",
    "    print(f\"              dict:\", state_vector.to_dict())\n",
    "    print(f\"     probabilities:\", state_vector.probabilities())\n",
    "    print(f\"probabilities_dict:\", state_vector.probabilities_dict())\n",
    "    print()\n",
    "    \n",
    "state_runner('0')\n",
    "state_runner('1')\n",
    "state_runner('+')\n",
    "state_runner('-')"
   ]
  },
  {
   "cell_type": "code",
   "execution_count": null,
   "metadata": {},
   "outputs": [],
   "source": []
  },
  {
   "cell_type": "markdown",
   "metadata": {},
   "source": [
    "# Playing with Simulator"
   ]
  },
  {
   "cell_type": "code",
   "execution_count": 212,
   "metadata": {},
   "outputs": [
    {
     "data": {
      "text/plain": [
       "[<QasmSimulator('qasm_simulator') from AerProvider()>,\n",
       " <StatevectorSimulator('statevector_simulator') from AerProvider()>,\n",
       " <UnitarySimulator('unitary_simulator') from AerProvider()>,\n",
       " <PulseSimulator('pulse_simulator') from AerProvider()>]"
      ]
     },
     "execution_count": 212,
     "metadata": {},
     "output_type": "execute_result"
    }
   ],
   "source": [
    "from qiskit import QuantumCircuit, Aer, transpile\n",
    "from qiskit import *\n",
    "from qiskit.providers.aer import StatevectorSimulator\n",
    "from qiskit.quantum_info import Statevector\n",
    "\n",
    "Aer.backends()"
   ]
  },
  {
   "cell_type": "code",
   "execution_count": null,
   "metadata": {},
   "outputs": [],
   "source": [
    "\n"
   ]
  },
  {
   "cell_type": "code",
   "execution_count": null,
   "metadata": {},
   "outputs": [],
   "source": []
  },
  {
   "cell_type": "code",
   "execution_count": 237,
   "metadata": {},
   "outputs": [],
   "source": [
    "class Results:\n",
    "    def __init__(self, result, qc, qobj=None):\n",
    "        self.raw_result = result\n",
    "        self.qc = qc\n",
    "        self.qobj = qobj\n",
    "        self.results = {\n",
    "            'raw': result,\n",
    "        }\n",
    "    \n",
    "    def counts(self):\n",
    "        counts = self.raw_result.get_counts(self.qc)\n",
    "        # print('counts=', counts)\n",
    "        counts_plot_histogram = plot_histogram(counts, title='Bell State Counts')\n",
    "        # print('counts_plot_histogram=', counts_plot_histogram)\n",
    "        return counts, counts_plot_histogram\n",
    "\n",
    "    def statevector(self):\n",
    "        statevector = self.raw_result.get_statevector(self.qc)\n",
    "        # print(\"statevector=\", statevector)\n",
    "        statevector_plot_state_city = plot_state_city(statevector, title='Bell State')\n",
    "        # print(\"statevector_plot_state_city=\", statevector_plot_state_city)\n",
    "        return statevector, statevector_plot_state_city\n",
    "\n",
    "    def get(self, statevector=False, counts=False):\n",
    "        if statevector:\n",
    "            self.results['statevector'] = self.statevector()\n",
    "        elif counts:\n",
    "            self.results['counts'] = self.counts()\n",
    "\n",
    "        return self.results"
   ]
  },
  {
   "cell_type": "code",
   "execution_count": 243,
   "metadata": {},
   "outputs": [
    {
     "name": "stdout",
     "output_type": "stream",
     "text": [
      "[0.70710678+0.j 0.70710678+0.j]\n"
     ]
    }
   ],
   "source": [
    "# Create circuit\n",
    "circ = QuantumCircuit(1)\n",
    "circ.h(0)\n",
    "\n",
    "\n",
    "simulator = StatevectorSimulator()\n",
    "qobj = compiler.assemble(circ)\n",
    "job = simulator.run(qobj)\n",
    "result = job.result()\n",
    "# print(result)\n",
    "\n",
    "print(result.get_statevector())\n",
    "\n",
    "# outputstate = result.get_statevector(qc, decimals=3)\n",
    "# print(outputstate)"
   ]
  },
  {
   "cell_type": "code",
   "execution_count": null,
   "metadata": {},
   "outputs": [],
   "source": []
  },
  {
   "cell_type": "code",
   "execution_count": 245,
   "metadata": {},
   "outputs": [
    {
     "data": {
      "text/html": [
       "<pre style=\"word-wrap: normal;white-space: pre;background: #fff0;line-height: 1.1;font-family: &quot;Courier New&quot;,Courier,monospace\">     \n",
       "q_0: \n",
       "     \n",
       "q_1: \n",
       "     </pre>"
      ],
      "text/plain": [
       "     \n",
       "q_0: \n",
       "     \n",
       "q_1: \n",
       "     "
      ]
     },
     "execution_count": 245,
     "metadata": {},
     "output_type": "execute_result"
    }
   ],
   "source": [
    "qc1 = QuantumCircuit(2)\n",
    "qc1.draw()"
   ]
  },
  {
   "cell_type": "code",
   "execution_count": 246,
   "metadata": {},
   "outputs": [
    {
     "data": {
      "text/plain": [
       "<qiskit.circuit.instructionset.InstructionSet at 0x1421c4fd0>"
      ]
     },
     "execution_count": 246,
     "metadata": {},
     "output_type": "execute_result"
    }
   ],
   "source": [
    "qc1.initialize([0,1], 0)"
   ]
  },
  {
   "cell_type": "code",
   "execution_count": 270,
   "metadata": {},
   "outputs": [
    {
     "data": {
      "text/plain": [
       "[<QasmSimulator('qasm_simulator') from AerProvider()>,\n",
       " <StatevectorSimulator('statevector_simulator') from AerProvider()>,\n",
       " <UnitarySimulator('unitary_simulator') from AerProvider()>,\n",
       " <PulseSimulator('pulse_simulator') from AerProvider()>]"
      ]
     },
     "execution_count": 270,
     "metadata": {},
     "output_type": "execute_result"
    }
   ],
   "source": [
    "Aer.backends()"
   ]
  },
  {
   "cell_type": "code",
   "execution_count": 295,
   "metadata": {},
   "outputs": [
    {
     "name": "stdout",
     "output_type": "stream",
     "text": [
      "2021-08-07T17:44:21.241139\n",
      "9eb7afe2-3c7f-4d33-b9bd-3fb40df1d2b8\n",
      "[1.+0.j 0.+0.j]\n",
      "{'0': 1.0}\n"
     ]
    }
   ],
   "source": [
    "qc2 = QuantumCircuit(1)\n",
    "qobj2 = compiler.assemble(qc2)\n",
    "\n",
    "# simulator2 = StatevectorSimulator()\n",
    "simulator2 = Aer.get_backend('statevector_simulator')\n",
    "# simulator2 = Aer.get_backend('qasm_simulator')\n",
    "\n",
    "simulation2 = simulator2.run(qobj2, validate=True)\n",
    "\n",
    "result2 = simulation2.result()\n",
    "print(result2.date)\n",
    "print(result2.job_id)\n",
    "print(result2.get_statevector())\n",
    "print(result2.get_counts())\n"
   ]
  },
  {
   "cell_type": "code",
   "execution_count": null,
   "metadata": {},
   "outputs": [],
   "source": []
  },
  {
   "cell_type": "code",
   "execution_count": 297,
   "metadata": {},
   "outputs": [
    {
     "ename": "ImportError",
     "evalue": "cannot import name 'AerSimulator' from 'qiskit.providers.aer' (/usr/local/lib/python3.8/site-packages/qiskit/providers/aer/__init__.py)",
     "output_type": "error",
     "traceback": [
      "\u001b[0;31m---------------------------------------------------------------------------\u001b[0m",
      "\u001b[0;31mImportError\u001b[0m                               Traceback (most recent call last)",
      "\u001b[0;32m<ipython-input-297-ea562d09834f>\u001b[0m in \u001b[0;36m<module>\u001b[0;34m\u001b[0m\n\u001b[0;32m----> 1\u001b[0;31m \u001b[0;32mfrom\u001b[0m \u001b[0mqiskit\u001b[0m\u001b[0;34m.\u001b[0m\u001b[0mproviders\u001b[0m\u001b[0;34m.\u001b[0m\u001b[0maer\u001b[0m \u001b[0;32mimport\u001b[0m \u001b[0mAer\u001b[0m\u001b[0;34m,\u001b[0m \u001b[0mAerSimulator\u001b[0m\u001b[0;34m\u001b[0m\u001b[0;34m\u001b[0m\u001b[0m\n\u001b[0m\u001b[1;32m      2\u001b[0m \u001b[0;32mfrom\u001b[0m \u001b[0mqiskit\u001b[0m\u001b[0;34m.\u001b[0m\u001b[0mproviders\u001b[0m \u001b[0;32mimport\u001b[0m \u001b[0maer\u001b[0m\u001b[0;34m\u001b[0m\u001b[0;34m\u001b[0m\u001b[0m\n\u001b[1;32m      3\u001b[0m \u001b[0maer\u001b[0m\u001b[0;34m.\u001b[0m\u001b[0mbackends\u001b[0m\u001b[0;34m(\u001b[0m\u001b[0;34m)\u001b[0m\u001b[0;34m\u001b[0m\u001b[0;34m\u001b[0m\u001b[0m\n\u001b[1;32m      4\u001b[0m \u001b[0msimulator\u001b[0m \u001b[0;34m=\u001b[0m \u001b[0mAerSimulator\u001b[0m\u001b[0;34m(\u001b[0m\u001b[0mmethod\u001b[0m\u001b[0;34m=\u001b[0m\u001b[0;34m'statevector'\u001b[0m\u001b[0;34m)\u001b[0m\u001b[0;34m\u001b[0m\u001b[0;34m\u001b[0m\u001b[0m\n",
      "\u001b[0;31mImportError\u001b[0m: cannot import name 'AerSimulator' from 'qiskit.providers.aer' (/usr/local/lib/python3.8/site-packages/qiskit/providers/aer/__init__.py)"
     ]
    }
   ],
   "source": [
    "from qiskit.providers.aer import Aer, AerSimulator\n",
    "from qiskit.providers\n",
    "from qiskit.providers import aer\n",
    "\n",
    "aer.backends()\n",
    "simulator = AerSimulator(method='statevector')\n"
   ]
  },
  {
   "cell_type": "code",
   "execution_count": null,
   "metadata": {},
   "outputs": [],
   "source": []
  }
 ],
 "metadata": {
  "kernelspec": {
   "display_name": "Python 3",
   "language": "python",
   "name": "python3"
  },
  "language_info": {
   "codemirror_mode": {
    "name": "ipython",
    "version": 3
   },
   "file_extension": ".py",
   "mimetype": "text/x-python",
   "name": "python",
   "nbconvert_exporter": "python",
   "pygments_lexer": "ipython3",
   "version": "3.8.11"
  }
 },
 "nbformat": 4,
 "nbformat_minor": 4
}
